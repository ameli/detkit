{
 "cells": [
  {
   "cell_type": "code",
   "execution_count": 1,
   "id": "bf0808fd",
   "metadata": {},
   "outputs": [],
   "source": [
    "import numpy\n",
    "from numpy.linalg import eig, eigh, qr, det\n",
    "from scipy.linalg import lu"
   ]
  },
  {
   "cell_type": "code",
   "execution_count": 2,
   "id": "d3bd768f",
   "metadata": {},
   "outputs": [],
   "source": [
    "n = 5\n",
    "m = 2\n",
    "K = numpy.random.randn(n, n)\n",
    "K = K.T @ K\n",
    "X = numpy.random.randn(n, m)\n",
    "q, r = qr(X)\n",
    "X = q\n",
    "P = X @ X.T"
   ]
  },
  {
   "cell_type": "code",
   "execution_count": 3,
   "id": "d9fc5d90",
   "metadata": {},
   "outputs": [],
   "source": [
    "def pr(a):\n",
    "    numpy.set_printoptions(precision=3)\n",
    "    print(a)\n",
    "\n",
    "def _lu(a):\n",
    "    n = len(a)\n",
    "    for k in range(0,n-1):\n",
    "        for i in range(k+1,n):\n",
    "            if a[i,k] != 0.0:\n",
    "                lam = a[i,k]/a[k,k]\n",
    "                a[i,k+1:n] = a[i,k+1:n] - lam*a[k,k+1:n]\n",
    "                a[i,k] = lam\n",
    "    return a"
   ]
  },
  {
   "cell_type": "code",
   "execution_count": 11,
   "id": "8da9e565",
   "metadata": {},
   "outputs": [],
   "source": [
    "def _lu2(A):\n",
    "    \n",
    "    n = A.shape[0]\n",
    "    L = numpy.eye(n)\n",
    "    for k in range(n):\n",
    "        # For each row k, access columns from k+1 to the end and divide by\n",
    "        # the diagonal coefficient at A(k ,k)\n",
    "        L[k+1:n, k] = A[k+1:n, k] / A[k, k];\n",
    "\n",
    "        # For each row k+1 to the end, perform Gaussian elimination\n",
    "        # In the end, A will contain U\n",
    "        #for l in range(k+1, n):\n",
    "        #    A[l, :] = A[l, :] - L[l, k] * A[k, :]\n",
    "        #for l in range(k+1, n):\n",
    "        A[k+1:, :] -= numpy.outer(L[k+1:, k], A[k, :])\n",
    "       \n",
    "    return L, A\n",
    "\n",
    "def _chol(A):\n",
    "    n = A.shape[0]\n",
    "    L = numpy.zeros_like(A)\n",
    "    for k in range(n):\n",
    "        L[k, k] = numpy.sqrt(A[k, k])\n",
    "        \n",
    "        for j in range(k+1, n):\n",
    "            L[j, k] = A[j, k] / L[k, k]\n",
    "            \n",
    "        for j in range(k + 1, n):\n",
    "            for i in range(j, n):\n",
    "                A[i, j] -= L[j, k] * L[i, k]\n",
    "    return L"
   ]
  },
  {
   "cell_type": "code",
   "execution_count": 5,
   "id": "7e17f58f",
   "metadata": {},
   "outputs": [
    {
     "name": "stdout",
     "output_type": "stream",
     "text": [
      "[[ 0.000e+00  0.000e+00  0.000e+00  0.000e+00  0.000e+00]\n",
      " [ 0.000e+00  0.000e+00  2.776e-17  0.000e+00  0.000e+00]\n",
      " [ 0.000e+00 -2.776e-17 -4.441e-16  0.000e+00  0.000e+00]\n",
      " [ 0.000e+00  0.000e+00  0.000e+00  0.000e+00  0.000e+00]\n",
      " [ 0.000e+00  0.000e+00  0.000e+00  0.000e+00  0.000e+00]]\n",
      "[[ 4.985  1.155 -1.705 -3.636  0.803]\n",
      " [ 1.155  3.622  0.222 -0.575  1.615]\n",
      " [-1.705  0.222  3.955  2.569 -0.486]\n",
      " [-3.636 -0.575  2.569  4.116 -0.566]\n",
      " [ 0.803  1.615 -0.486 -0.566  2.732]]\n"
     ]
    }
   ],
   "source": [
    "K2 = numpy.copy(K)\n",
    "l, u = _lu2(K2)\n",
    "pr(K - l@u)\n",
    "pr(K)"
   ]
  },
  {
   "cell_type": "code",
   "execution_count": 18,
   "id": "7b4e16c7",
   "metadata": {},
   "outputs": [
    {
     "name": "stdout",
     "output_type": "stream",
     "text": [
      "[[ 0.000e+00  0.000e+00  0.000e+00  0.000e+00  0.000e+00]\n",
      " [ 0.000e+00  4.441e-16  5.551e-17  0.000e+00 -2.220e-16]\n",
      " [ 0.000e+00  5.551e-17  0.000e+00  0.000e+00  0.000e+00]\n",
      " [ 0.000e+00  0.000e+00  0.000e+00  0.000e+00  0.000e+00]\n",
      " [ 0.000e+00 -2.220e-16  0.000e+00  0.000e+00  0.000e+00]]\n",
      "[[ 2.233  0.     0.     0.     0.   ]\n",
      " [ 0.517  1.831  0.     0.     0.   ]\n",
      " [-0.764  0.337  1.805  0.     0.   ]\n",
      " [-1.629  0.146  0.707  0.971  0.   ]\n",
      " [ 0.36   0.78  -0.263  0.094  1.384]]\n",
      "[[ 4.985  1.155 -1.705 -3.636  0.803]\n",
      " [ 1.155  3.354  0.222 -0.575  1.615]\n",
      " [-1.705  0.617  3.258  2.569 -0.486]\n",
      " [-3.636  0.268  1.276  0.942 -0.566]\n",
      " [ 0.803  1.429 -0.474  0.091  1.916]]\n"
     ]
    }
   ],
   "source": [
    "K2 = numpy.copy(K)\n",
    "l = _chol(K2)\n",
    "pr(K - l@l.T)\n",
    "pr(l)\n",
    "pr(K2)"
   ]
  },
  {
   "cell_type": "code",
   "execution_count": null,
   "id": "9a2117ce",
   "metadata": {},
   "outputs": [],
   "source": []
  }
 ],
 "metadata": {
  "kernelspec": {
   "display_name": "Python 3 (ipykernel)",
   "language": "python",
   "name": "python3"
  },
  "language_info": {
   "codemirror_mode": {
    "name": "ipython",
    "version": 3
   },
   "file_extension": ".py",
   "mimetype": "text/x-python",
   "name": "python",
   "nbconvert_exporter": "python",
   "pygments_lexer": "ipython3",
   "version": "3.9.5"
  }
 },
 "nbformat": 4,
 "nbformat_minor": 5
}
