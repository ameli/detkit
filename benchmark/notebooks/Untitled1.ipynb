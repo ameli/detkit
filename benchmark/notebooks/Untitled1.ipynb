{
 "cells": [
  {
   "cell_type": "code",
   "execution_count": 1,
   "id": "3e1614e3",
   "metadata": {},
   "outputs": [],
   "source": [
    "import time\n",
    "import numpy\n",
    "from detkit import glogdet"
   ]
  },
  {
   "cell_type": "code",
   "execution_count": 2,
   "id": "ad60752b",
   "metadata": {},
   "outputs": [],
   "source": [
    "n = 2000\n",
    "m = 30\n",
    "A = numpy.random.randn(n, n)\n",
    "X = numpy.random.randn(n, m)\n",
    "A = A.T @ A"
   ]
  },
  {
   "cell_type": "code",
   "execution_count": 3,
   "id": "a6f6a1cb",
   "metadata": {},
   "outputs": [
    {
     "name": "stdout",
     "output_type": "stream",
     "text": [
      "11 s ± 150 ms per loop (mean ± std. dev. of 7 runs, 1 loop each)\n"
     ]
    }
   ],
   "source": [
    "%timeit glogdet(A, X, method='legacy', sym_pos=False)"
   ]
  },
  {
   "cell_type": "code",
   "execution_count": 4,
   "id": "88da5f2e",
   "metadata": {},
   "outputs": [
    {
     "name": "stdout",
     "output_type": "stream",
     "text": [
      "1.31 s ± 7.27 ms per loop (mean ± std. dev. of 7 runs, 1 loop each)\n"
     ]
    }
   ],
   "source": [
    "%timeit glogdet(A, X, method='legacy', sym_pos=True)"
   ]
  },
  {
   "cell_type": "code",
   "execution_count": null,
   "id": "69a0ab41",
   "metadata": {},
   "outputs": [],
   "source": [
    "glogdet(A, X, method='legacy', sym_pos=True)"
   ]
  },
  {
   "cell_type": "code",
   "execution_count": null,
   "id": "e4160f4e",
   "metadata": {},
   "outputs": [],
   "source": []
  }
 ],
 "metadata": {
  "kernelspec": {
   "display_name": "Python 3 (ipykernel)",
   "language": "python",
   "name": "python3"
  },
  "language_info": {
   "codemirror_mode": {
    "name": "ipython",
    "version": 3
   },
   "file_extension": ".py",
   "mimetype": "text/x-python",
   "name": "python",
   "nbconvert_exporter": "python",
   "pygments_lexer": "ipython3",
   "version": "3.9.5"
  }
 },
 "nbformat": 4,
 "nbformat_minor": 5
}
