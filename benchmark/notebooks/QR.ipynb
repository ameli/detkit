{
 "cells": [
  {
   "cell_type": "code",
   "execution_count": 6,
   "id": "bc8a22b8",
   "metadata": {},
   "outputs": [],
   "source": [
    "import numpy\n",
    "import numpy.linalg\n",
    "import time"
   ]
  },
  {
   "cell_type": "code",
   "execution_count": 53,
   "id": "34995b6e",
   "metadata": {},
   "outputs": [],
   "source": [
    "def qr_sch(A):\n",
    "    \n",
    "    A = numpy.array(A)\n",
    "    \n",
    "    (m,n) = numpy.shape(A) # Get matrix A's shape m - # of rows, m - # of columns\n",
    "   \n",
    "    # Q - an orthogonal matrix of m-column vectors\n",
    "    # R - an upper triangular matrix (the Gaussian elimination of A to the row-echelon form)\n",
    "    \n",
    "    # Initialization: [ Q - multivector Q = A of shape (m x n) ]\n",
    "    #                 [ R - multivector of shape (n x n)       ]\n",
    "\n",
    "    Q = numpy.array(A)      # Q - matrix A\n",
    "    R = numpy.zeros((n, n)) # R - matrix of 0's    \n",
    "\n",
    "    # **** Objective: ****\n",
    "\n",
    "    # For each column vector r[k] in R:\n",
    "       # Compute r[k,i] element in R, k-th column q[k] in Q;\n",
    "\n",
    "    for k in range(n):\n",
    "        # For a span of the previous column vectors q[0..k] in Q, \n",
    "        # compute the R[i,k] element in R as the inner product of vectors q[i] and q[k],\n",
    "        # compute k-th column vector q[k] as the product of scalar R[i,k] and i-th vector q[i],\n",
    "        # subtracting it from the k-th column vector q[k] in Q\n",
    "        for i in range(k):\n",
    "\n",
    "            # **** Compute k-th column q[k] of Q and k-th row r[k] of R **** \n",
    "            a = numpy.dot(Q[:,i], Q[:,k])\n",
    "            Q[:,k] -= a * Q[:,i]\n",
    "            \n",
    "        # Compute the r[k,k] pseudo-diagonal element in R \n",
    "        # as the Euclidean norm of the k-th vector q[k] in Q,\n",
    "\n",
    "        # Normalize the k-th vector q[k] in Q, dividing it by the norm r[k,k]\n",
    "        b = numpy.linalg.norm(Q[:,k])\n",
    "        Q[:,k] /= b\n",
    "    \n",
    "    return Q  # Return the resultant negative matrices Q and R"
   ]
  },
  {
   "cell_type": "code",
   "execution_count": 47,
   "id": "c83ef728",
   "metadata": {},
   "outputs": [],
   "source": [
    "n = 10\n",
    "m = 3\n",
    "A = numpy.random.randn(n, m)\n",
    "I = numpy.eye(m, m)"
   ]
  },
  {
   "cell_type": "code",
   "execution_count": 54,
   "id": "551a91c4",
   "metadata": {},
   "outputs": [],
   "source": [
    "q = qr_sch(A)\n",
    "q2, r2 = numpy.linalg.qr(A)"
   ]
  },
  {
   "cell_type": "code",
   "execution_count": 55,
   "id": "68b3e562",
   "metadata": {},
   "outputs": [
    {
     "data": {
      "text/plain": [
       "False"
      ]
     },
     "execution_count": 55,
     "metadata": {},
     "output_type": "execute_result"
    }
   ],
   "source": [
    "numpy.allclose(q, q2)"
   ]
  },
  {
   "cell_type": "code",
   "execution_count": 57,
   "id": "91e4d58f",
   "metadata": {},
   "outputs": [
    {
     "data": {
      "text/plain": [
       "True"
      ]
     },
     "execution_count": 57,
     "metadata": {},
     "output_type": "execute_result"
    }
   ],
   "source": [
    "numpy.allclose(q2.T @ q2, I)"
   ]
  },
  {
   "cell_type": "code",
   "execution_count": 58,
   "id": "73ea151d",
   "metadata": {},
   "outputs": [
    {
     "data": {
      "text/plain": [
       "array([[ 1.00000000e+00, -6.93889390e-18,  4.68375339e-17],\n",
       "       [-6.93889390e-18,  1.00000000e+00, -1.11022302e-16],\n",
       "       [ 4.68375339e-17, -1.11022302e-16,  1.00000000e+00]])"
      ]
     },
     "execution_count": 58,
     "metadata": {},
     "output_type": "execute_result"
    }
   ],
   "source": [
    "q2.T @ q2"
   ]
  },
  {
   "cell_type": "code",
   "execution_count": null,
   "id": "a4c3a802",
   "metadata": {},
   "outputs": [],
   "source": []
  }
 ],
 "metadata": {
  "kernelspec": {
   "display_name": "Python 3 (ipykernel)",
   "language": "python",
   "name": "python3"
  },
  "language_info": {
   "codemirror_mode": {
    "name": "ipython",
    "version": 3
   },
   "file_extension": ".py",
   "mimetype": "text/x-python",
   "name": "python",
   "nbconvert_exporter": "python",
   "pygments_lexer": "ipython3",
   "version": "3.9.5"
  }
 },
 "nbformat": 4,
 "nbformat_minor": 5
}
