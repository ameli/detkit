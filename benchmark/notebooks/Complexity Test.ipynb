{
 "cells": [
  {
   "cell_type": "code",
   "execution_count": 1,
   "id": "1c8224ea",
   "metadata": {},
   "outputs": [],
   "source": [
    "import numpy\n",
    "import time\n",
    "import matplotlib.pyplot as plt"
   ]
  },
  {
   "cell_type": "code",
   "execution_count": 15,
   "id": "328c98e0",
   "metadata": {},
   "outputs": [],
   "source": [
    "# =======\n",
    "# log fit\n",
    "# =======\n",
    "\n",
    "def log_fit(x, y):\n",
    "    \"\"\"\n",
    "    finds a in y = x**a\n",
    "    \"\"\"\n",
    "    \n",
    "    not_nan = numpy.logical_not(numpy.isnan(y))\n",
    "    x = x[not_nan]\n",
    "    y = y[not_nan]\n",
    "    \n",
    "    log2_x = numpy.log2(x)\n",
    "    log2_y = numpy.log2(y)\n",
    "    \n",
    "    coeff = numpy.polyfit(log2_x, log2_y, 1)\n",
    "    slope = coeff[0]\n",
    "    \n",
    "    # Interpolation\n",
    "    log2_xi = numpy.linspace(log2_x[0], log2_x[-1])\n",
    "    log2_yi = numpy.polyval(coeff, log2_xi)\n",
    "    \n",
    "    xi = 2**(log2_xi)\n",
    "    yi = 2**(log2_yi)\n",
    "    \n",
    "    return slope, xi, yi\n",
    "\n",
    "# ===\n",
    "# fit\n",
    "# ===\n",
    "\n",
    "def fit(x, y):\n",
    "    \"\"\"\n",
    "    finds a in y = x**a\n",
    "    \"\"\"\n",
    "    \n",
    "    not_nan = numpy.logical_not(numpy.isnan(y))\n",
    "    x = x[not_nan]\n",
    "    y = y[not_nan]\n",
    "    \n",
    "    coeff = numpy.polyfit(x, y, 1)\n",
    "    slope = coeff[0]\n",
    "    \n",
    "    # Interpolation\n",
    "    xi = numpy.linspace(x[0], x[-1])\n",
    "    yi = numpy.polyval(coeff, xi)\n",
    "    \n",
    "    xi = 2**(xi)\n",
    "    yi = 2**(yi)\n",
    "    \n",
    "    return slope, xi, yi"
   ]
  },
  {
   "cell_type": "code",
   "execution_count": 5,
   "id": "92441ed4",
   "metadata": {},
   "outputs": [],
   "source": [
    "n = 2**numpy.arange(10, 14)\n",
    "t = numpy.zeros((n.size, ))\n",
    "repeat = 2\n",
    "\n",
    "for i in range(n.size):\n",
    "    A = numpy.random.randn(n[-1], n[i])\n",
    "    b = numpy.random.randn(n[i])\n",
    "    t0 = time.process_time()\n",
    "    for j in range(repeat):\n",
    "        #x = numpy.linalg.solve(A, b)\n",
    "        B = A @ A.T\n",
    "    t[i] = (time.process_time() - t0) / repeat"
   ]
  },
  {
   "cell_type": "code",
   "execution_count": 18,
   "id": "20c27bdc",
   "metadata": {},
   "outputs": [
    {
     "data": {
      "text/plain": [
       "<matplotlib.legend.Legend at 0x7f452318f970>"
      ]
     },
     "execution_count": 18,
     "metadata": {},
     "output_type": "execute_result"
    },
    {
     "data": {
      "image/png": "[encoded data removed]",
      "text/plain": [
       "<Figure size 432x288 with 1 Axes>"
      ]
     },
     "metadata": {
      "needs_background": "light"
     },
     "output_type": "display_data"
    }
   ],
   "source": [
    "start = 0\n",
    "slope, ni, ti = log_fit(n[start:], t[start:])\n",
    "plt.plot(n, t, 'o')\n",
    "plt.plot(ni, ti, '-', label='slope: %0.3f' % slope)\n",
    "plt.xscale('log')\n",
    "plt.yscale('log')\n",
    "plt.legend()"
   ]
  },
  {
   "cell_type": "code",
   "execution_count": null,
   "id": "6f1828a9",
   "metadata": {},
   "outputs": [],
   "source": []
  }
 ],
 "metadata": {
  "kernelspec": {
   "display_name": "Python 3 (ipykernel)",
   "language": "python",
   "name": "python3"
  },
  "language_info": {
   "codemirror_mode": {
    "name": "ipython",
    "version": 3
   },
   "file_extension": ".py",
   "mimetype": "text/x-python",
   "name": "python",
   "nbconvert_exporter": "python",
   "pygments_lexer": "ipython3",
   "version": "3.9.5"
  }
 },
 "nbformat": 4,
 "nbformat_minor": 5
}
