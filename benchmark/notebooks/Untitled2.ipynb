{
 "cells": [
  {
   "cell_type": "code",
   "execution_count": 5,
   "id": "1566ebda",
   "metadata": {},
   "outputs": [],
   "source": [
    "import numpy\n",
    "import numpy.linalg\n",
    "import scipy\n",
    "import scipy.linalg\n",
    "import time"
   ]
  },
  {
   "cell_type": "code",
   "execution_count": 18,
   "id": "1f4ef3d4",
   "metadata": {},
   "outputs": [],
   "source": [
    "n = 2000\n",
    "m = 500\n",
    "A = numpy.random.randn(n, m)"
   ]
  },
  {
   "cell_type": "code",
   "execution_count": 19,
   "id": "a17af1af",
   "metadata": {},
   "outputs": [
    {
     "name": "stdout",
     "output_type": "stream",
     "text": [
      "0.5251808350000005\n"
     ]
    }
   ],
   "source": [
    "t0 = time.process_time()\n",
    "q, r = scipy.linalg.qr(A, mode='economic')\n",
    "t1 = time.process_time() - t0\n",
    "print(t1)"
   ]
  },
  {
   "cell_type": "code",
   "execution_count": 20,
   "id": "b6cdea2d",
   "metadata": {},
   "outputs": [
    {
     "name": "stdout",
     "output_type": "stream",
     "text": [
      "0.10789549399999743\n"
     ]
    }
   ],
   "source": [
    "t0 = time.process_time()\n",
    "B = A.T @ A\n",
    "u = scipy.linalg.cholesky(B)\n",
    "t1 = time.process_time() - t0\n",
    "print(t1)"
   ]
  },
  {
   "cell_type": "code",
   "execution_count": 13,
   "id": "84360d23",
   "metadata": {},
   "outputs": [
    {
     "data": {
      "text/plain": [
       "(2000, 2000)"
      ]
     },
     "execution_count": 13,
     "metadata": {},
     "output_type": "execute_result"
    }
   ],
   "source": [
    "q.shape"
   ]
  },
  {
   "cell_type": "code",
   "execution_count": null,
   "id": "941d8b6c",
   "metadata": {},
   "outputs": [],
   "source": []
  }
 ],
 "metadata": {
  "kernelspec": {
   "display_name": "Python 3 (ipykernel)",
   "language": "python",
   "name": "python3"
  },
  "language_info": {
   "codemirror_mode": {
    "name": "ipython",
    "version": 3
   },
   "file_extension": ".py",
   "mimetype": "text/x-python",
   "name": "python",
   "nbconvert_exporter": "python",
   "pygments_lexer": "ipython3",
   "version": "3.9.5"
  }
 },
 "nbformat": 4,
 "nbformat_minor": 5
}
